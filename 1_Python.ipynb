{
 "cells": [
  {
   "cell_type": "markdown",
   "metadata": {},
   "source": [
    "# Slide 13"
   ]
  },
  {
   "cell_type": "code",
   "execution_count": 1,
   "metadata": {},
   "outputs": [
    {
     "name": "stdout",
     "output_type": "stream",
     "text": [
      "5\n",
      "7.5\n",
      "2\n"
     ]
    }
   ],
   "source": [
    "print(5)\n",
    "print((5 + 10)/2)\n",
    "print(12 % 5) # Mod"
   ]
  },
  {
   "cell_type": "code",
   "execution_count": 2,
   "metadata": {},
   "outputs": [
    {
     "name": "stdout",
     "output_type": "stream",
     "text": [
      "False\n",
      "True\n"
     ]
    }
   ],
   "source": [
    "print((not (False or True)) and True)\n",
    "print(5 != \"a\") # it works!"
   ]
  },
  {
   "cell_type": "code",
   "execution_count": 3,
   "metadata": {},
   "outputs": [
    {
     "name": "stdout",
     "output_type": "stream",
     "text": [
      "None\n",
      "aaa5\n",
      "7\n"
     ]
    }
   ],
   "source": [
    "print(None) # Special value -- no value\n",
    "print(\"aaa\" + str(5))\n",
    "print(2 + int(\"5\"))"
   ]
  },
  {
   "cell_type": "markdown",
   "metadata": {},
   "source": [
    "# Slide 14"
   ]
  },
  {
   "cell_type": "code",
   "execution_count": 4,
   "metadata": {},
   "outputs": [
    {
     "name": "stdout",
     "output_type": "stream",
     "text": [
      "5\n"
     ]
    }
   ],
   "source": [
    "def f1():\n",
    "    return 5\n",
    "\n",
    "print(f1())"
   ]
  },
  {
   "cell_type": "code",
   "execution_count": 5,
   "metadata": {},
   "outputs": [
    {
     "name": "stdout",
     "output_type": "stream",
     "text": [
      "Hello world!\n",
      "None\n"
     ]
    }
   ],
   "source": [
    "def f2():\n",
    "    \"\"\"\n",
    "    You should document your functions.\n",
    "    \"\"\"\n",
    "    print(\"Hello world!\")\n",
    "\n",
    "print(f2())"
   ]
  },
  {
   "cell_type": "code",
   "execution_count": 6,
   "metadata": {},
   "outputs": [
    {
     "name": "stdout",
     "output_type": "stream",
     "text": [
      "3\n"
     ]
    }
   ],
   "source": [
    "def mySum(a, b):\n",
    "    return a + b\n",
    "\n",
    "print(mySum(1,2))"
   ]
  },
  {
   "cell_type": "markdown",
   "metadata": {},
   "source": [
    "# Slide 16"
   ]
  },
  {
   "cell_type": "code",
   "execution_count": 7,
   "metadata": {},
   "outputs": [
    {
     "name": "stdout",
     "output_type": "stream",
     "text": [
      "[10, 20, 30, 40, 50] 20 50\n"
     ]
    }
   ],
   "source": [
    "a = [10, 20, 30, 40, 50]\n",
    "print(a, a[1], a[-1])"
   ]
  },
  {
   "cell_type": "code",
   "execution_count": 8,
   "metadata": {},
   "outputs": [
    {
     "name": "stdout",
     "output_type": "stream",
     "text": [
      "[10, 20, 30, 100, 50]\n"
     ]
    }
   ],
   "source": [
    "a[3] = 100\n",
    "print(a)"
   ]
  },
  {
   "cell_type": "code",
   "execution_count": 9,
   "metadata": {},
   "outputs": [
    {
     "name": "stdout",
     "output_type": "stream",
     "text": [
      "[10, 20, 30, 100, 50, 10, 20, 30, 100, 50]\n",
      "[10, 20, 30, 100, 50, 100, 200]\n"
     ]
    }
   ],
   "source": [
    "print(a * 2)\n",
    "print(a + [100, 200])"
   ]
  },
  {
   "cell_type": "code",
   "execution_count": 10,
   "metadata": {},
   "outputs": [
    {
     "name": "stdout",
     "output_type": "stream",
     "text": [
      "5\n",
      "0\n"
     ]
    }
   ],
   "source": [
    "print(len(a))\n",
    "print(len([]))"
   ]
  },
  {
   "cell_type": "code",
   "execution_count": 11,
   "metadata": {},
   "outputs": [
    {
     "name": "stdout",
     "output_type": "stream",
     "text": [
      "True\n",
      "1\n"
     ]
    }
   ],
   "source": [
    "print(20 in a)\n",
    "print(a.index(20))"
   ]
  },
  {
   "cell_type": "code",
   "execution_count": 12,
   "metadata": {},
   "outputs": [
    {
     "name": "stdout",
     "output_type": "stream",
     "text": [
      "[10, 20, 30, 100, 50, 300]\n"
     ]
    }
   ],
   "source": [
    "a.append(300)\n",
    "print(a)"
   ]
  },
  {
   "cell_type": "markdown",
   "metadata": {},
   "source": [
    "# Slide 17"
   ]
  },
  {
   "cell_type": "code",
   "execution_count": 13,
   "metadata": {},
   "outputs": [
    {
     "name": "stdout",
     "output_type": "stream",
     "text": [
      "[0, 1, 2, 3, 4]\n",
      "[10, 11, 12, 13, 14]\n",
      "[10, 12, 14, 16]\n"
     ]
    }
   ],
   "source": [
    "print(list(range(5)))\n",
    "print(list(range(10,15)))\n",
    "print(list(range(10,17,2)))"
   ]
  },
  {
   "cell_type": "markdown",
   "metadata": {},
   "source": [
    "# Slide 18"
   ]
  },
  {
   "cell_type": "code",
   "execution_count": 14,
   "metadata": {},
   "outputs": [
    {
     "name": "stdout",
     "output_type": "stream",
     "text": [
      "87\n",
      "2 40\n"
     ]
    }
   ],
   "source": [
    "a = [10, 2, 30, 40, 5]\n",
    "print(sum(a))\n",
    "print(min(a), max(a))"
   ]
  },
  {
   "cell_type": "markdown",
   "metadata": {},
   "source": [
    "# Slide 19"
   ]
  },
  {
   "cell_type": "code",
   "execution_count": 15,
   "metadata": {},
   "outputs": [
    {
     "name": "stdout",
     "output_type": "stream",
     "text": [
      "a = [10, 20, 30, 40, 50]\n",
      "a[1:3] = [20, 30]\n",
      "a[-3:-1] = [30, 40]\n",
      "a[:-1] = [10, 20, 30, 40]\n",
      "a[1:] = [20, 30, 40, 50]\n",
      "a[:] =  [10, 20, 30, 40, 50]\n",
      "a[::2] =  [10, 30, 50]\n",
      "a[::-1] =  [50, 40, 30, 20, 10]\n"
     ]
    }
   ],
   "source": [
    "a = [10, 20, 30, 40, 50]\n",
    "print(\"a =\", a)\n",
    "print(\"a[1:3] =\", a[1:3])\n",
    "print(\"a[-3:-1] =\", a[-3:-1])\n",
    "print(\"a[:-1] =\", a[:-1])\n",
    "print(\"a[1:] =\", a[1:])\n",
    "print(\"a[:] = \", a[:])\n",
    "print(\"a[::2] = \", a[::2])\n",
    "print(\"a[::-1] = \", a[::-1])"
   ]
  },
  {
   "cell_type": "code",
   "execution_count": 16,
   "metadata": {},
   "outputs": [
    {
     "name": "stdout",
     "output_type": "stream",
     "text": [
      "[10, 100, 50]\n"
     ]
    }
   ],
   "source": [
    "a[1:4] = [100]\n",
    "print(a)"
   ]
  },
  {
   "cell_type": "code",
   "execution_count": 17,
   "metadata": {},
   "outputs": [
    {
     "name": "stdout",
     "output_type": "stream",
     "text": [
      "[50]\n"
     ]
    }
   ],
   "source": [
    "a[:-1] = []\n",
    "print(a)"
   ]
  },
  {
   "cell_type": "markdown",
   "metadata": {},
   "source": [
    "# Slide 20"
   ]
  },
  {
   "cell_type": "code",
   "execution_count": 18,
   "metadata": {},
   "outputs": [
    {
     "name": "stdout",
     "output_type": "stream",
     "text": [
      "[1, 2, 3, 4]\n",
      "[1, 2, 3]\n",
      "[1, 2, 3]\n"
     ]
    }
   ],
   "source": [
    "a = [1,2,3]\n",
    "a1 = a.copy()\n",
    "a2 = a[:] # copy trick\n",
    "\n",
    "b = a\n",
    "b += [4]\n",
    "\n",
    "print(a, a1, a2, sep = \"\\n\")"
   ]
  },
  {
   "cell_type": "markdown",
   "metadata": {},
   "source": [
    "# Slide 22"
   ]
  },
  {
   "cell_type": "code",
   "execution_count": 19,
   "metadata": {},
   "outputs": [
    {
     "name": "stdout",
     "output_type": "stream",
     "text": [
      "This is a string\n",
      "This is also a string\n",
      "5 and 10 are numbers\n",
      "5 and 10 are numbers\n",
      "This is a string\n",
      "with many lines\n"
     ]
    }
   ],
   "source": [
    "print('This is a string')\n",
    "print(\"This is also a \" + \"string\")\n",
    "print(\"{a} and {b} are {c}\".format(a=5, b=10, c=\"numbers\"))\n",
    "a = 5; b = 10; c = \"numbers\" \n",
    "print(f\"{a} and {b} are {c}\")\n",
    "print(\"\"\"This is a string\n",
    "with many lines\"\"\")"
   ]
  },
  {
   "cell_type": "code",
   "execution_count": 20,
   "metadata": {},
   "outputs": [
    {
     "name": "stdout",
     "output_type": "stream",
     "text": [
      "s = abcdef    len(s) = 6\n",
      "s[1] = b\n",
      "s[-1] = f\n"
     ]
    }
   ],
   "source": [
    "s = \"abcdef\"\n",
    "print(\"s =\", s, \"   len(s) =\", len(s))\n",
    "print(\"s[1] =\", s[1])\n",
    "print(\"s[-1] =\", s[-1])"
   ]
  },
  {
   "cell_type": "code",
   "execution_count": 21,
   "metadata": {},
   "outputs": [
    {
     "name": "stdout",
     "output_type": "stream",
     "text": [
      "b = abcde\n",
      "b[1:3] = bc\n"
     ]
    }
   ],
   "source": [
    "b = \"abcde\"\n",
    "print(\"b =\", b)\n",
    "print(\"b[1:3] =\", b[1:3])"
   ]
  },
  {
   "cell_type": "markdown",
   "metadata": {},
   "source": [
    "# Slide 23"
   ]
  },
  {
   "cell_type": "code",
   "execution_count": 22,
   "metadata": {},
   "outputs": [
    {
     "name": "stdout",
     "output_type": "stream",
     "text": [
      "2\n",
      "False\n"
     ]
    }
   ],
   "source": [
    "s = \"abcdef\"\n",
    "print(s.index(\"c\"))\n",
    "print(\"z\" in s)"
   ]
  },
  {
   "cell_type": "code",
   "execution_count": 23,
   "metadata": {},
   "outputs": [
    {
     "name": "stdout",
     "output_type": "stream",
     "text": [
      "abcdef\n"
     ]
    }
   ],
   "source": [
    "print((\"ABCdef\".lower()))"
   ]
  },
  {
   "cell_type": "code",
   "execution_count": 24,
   "metadata": {},
   "outputs": [
    {
     "name": "stdout",
     "output_type": "stream",
     "text": [
      "my line\n"
     ]
    }
   ],
   "source": [
    "print(\"    my line    \\n\".strip())"
   ]
  },
  {
   "cell_type": "code",
   "execution_count": 25,
   "metadata": {},
   "outputs": [
    {
     "name": "stdout",
     "output_type": "stream",
     "text": [
      "Many many punctuations\n"
     ]
    }
   ],
   "source": [
    "import string\n",
    "translator = str.maketrans('', '', string.punctuation)\n",
    "print(\"Many, many punctuations!\".translate(translator))"
   ]
  },
  {
   "cell_type": "markdown",
   "metadata": {},
   "source": [
    "# Slide 24"
   ]
  },
  {
   "cell_type": "code",
   "execution_count": 26,
   "metadata": {},
   "outputs": [
    {
     "name": "stdout",
     "output_type": "stream",
     "text": [
      "['aaa', '', '', '', 'bbb', '', 'ccc']\n",
      "['aaa', 'bbb', 'ccc']\n",
      "['aaa', 'bbb', '', '', 'ccc']\n"
     ]
    }
   ],
   "source": [
    "print(\"aaa    bbb  ccc\".split(\" \"))\n",
    "print(\"aaa    bbb  ccc\".split())\n",
    "print(\"aaa,bbb,,,ccc\".split(\",\"))"
   ]
  },
  {
   "cell_type": "code",
   "execution_count": 27,
   "metadata": {},
   "outputs": [
    {
     "name": "stdout",
     "output_type": "stream",
     "text": [
      "aa;bb;cc\n"
     ]
    }
   ],
   "source": [
    "print(\";\".join([\"aa\", \"bb\", \"cc\"]))"
   ]
  },
  {
   "cell_type": "code",
   "execution_count": 28,
   "metadata": {},
   "outputs": [
    {
     "name": "stdout",
     "output_type": "stream",
     "text": [
      "['aaa', 'bbb', 'ccc']\n"
     ]
    }
   ],
   "source": [
    "print(\" \".join(\"aaa,bbb,,,ccc\".split(\",\")).split())"
   ]
  },
  {
   "cell_type": "markdown",
   "metadata": {},
   "source": [
    "# Slide 26"
   ]
  },
  {
   "cell_type": "code",
   "execution_count": 29,
   "metadata": {},
   "outputs": [
    {
     "name": "stdout",
     "output_type": "stream",
     "text": [
      "Enter a number: 3\n",
      "5\n"
     ]
    }
   ],
   "source": [
    "a = input('Enter a number: ')\n",
    "print(int(a) + 2)"
   ]
  },
  {
   "cell_type": "markdown",
   "metadata": {},
   "source": [
    "# Slide 27"
   ]
  },
  {
   "cell_type": "code",
   "execution_count": 30,
   "metadata": {},
   "outputs": [
    {
     "name": "stdout",
     "output_type": "stream",
     "text": [
      "['     \"output_type\": \"stream\",\\n', '     \"text\": [\\n', '      \"[\\'    \\\\\"myFile = open(\\\\\\\\\\\\\\\\\\\\\"1_Python.ipynb\\\\\\\\\\\\\\\\\\\\\", \\\\\\\\\\\\\\\\\\\\\"r\\\\\\\\\\\\\\\\\\\\\")\\\\\\\\\\\\\\\\n\\\\\",\\\\\\\\n\\', \\'    \\\\\"lines = myFile.readlines()\\\\\\\\\\\\\\\\n\\\\\",\\\\\\\\n\\', \\'    \\\\\"print(lines[681:684])\\\\\"\\\\\\\\n\\']\\\\n\"\\n']\n"
     ]
    }
   ],
   "source": [
    "myFile = open(\"1_Python.ipynb\", \"r\")\n",
    "lines = myFile.readlines()\n",
    "print(lines[681:684])"
   ]
  },
  {
   "cell_type": "markdown",
   "metadata": {},
   "source": [
    "# Slide 29"
   ]
  },
  {
   "cell_type": "code",
   "execution_count": 31,
   "metadata": {},
   "outputs": [
    {
     "name": "stdout",
     "output_type": "stream",
     "text": [
      "Yes\n"
     ]
    }
   ],
   "source": [
    "a = 5\n",
    "if a == 5: print(\"Yes\")"
   ]
  },
  {
   "cell_type": "code",
   "execution_count": 32,
   "metadata": {},
   "outputs": [
    {
     "name": "stdout",
     "output_type": "stream",
     "text": [
      "Yes\n"
     ]
    }
   ],
   "source": [
    "if a > 2:\n",
    "    print(\"Yes\")\n",
    "else:\n",
    "    print(\"No\")"
   ]
  },
  {
   "cell_type": "code",
   "execution_count": 33,
   "metadata": {},
   "outputs": [
    {
     "name": "stdout",
     "output_type": "stream",
     "text": [
      "10\n"
     ]
    }
   ],
   "source": [
    "b = 1 if a < 2 else 10\n",
    "print(b)"
   ]
  },
  {
   "cell_type": "markdown",
   "metadata": {},
   "source": [
    "# Slide 30"
   ]
  },
  {
   "cell_type": "code",
   "execution_count": 34,
   "metadata": {},
   "outputs": [
    {
     "name": "stdout",
     "output_type": "stream",
     "text": [
      "1 2 3 4 "
     ]
    }
   ],
   "source": [
    "a = 5\n",
    "for i in range(1,5):\n",
    "    print(i, end=' ')"
   ]
  },
  {
   "cell_type": "code",
   "execution_count": 35,
   "metadata": {},
   "outputs": [
    {
     "name": "stdout",
     "output_type": "stream",
     "text": [
      "5 3 1 -1 "
     ]
    }
   ],
   "source": [
    "while a > -2:\n",
    "    print(a, end=' ')\n",
    "    a -= 2"
   ]
  },
  {
   "cell_type": "code",
   "execution_count": 36,
   "metadata": {},
   "outputs": [
    {
     "name": "stdout",
     "output_type": "stream",
     "text": [
      "1 2 4 5 "
     ]
    }
   ],
   "source": [
    "for i in range(1,10):\n",
    "    if (i == 3): continue\n",
    "    if (i > 5): break\n",
    "    print(i, end=' ')"
   ]
  },
  {
   "cell_type": "markdown",
   "metadata": {},
   "source": [
    "# Slide 32"
   ]
  },
  {
   "cell_type": "code",
   "execution_count": 37,
   "metadata": {},
   "outputs": [
    {
     "name": "stdout",
     "output_type": "stream",
     "text": [
      "[20, 40, 60, 200, 100, 600]\n"
     ]
    }
   ],
   "source": [
    "a = [10, 20, 30, 100, 50, 300]\n",
    "print([el * 2 for el in a])"
   ]
  },
  {
   "cell_type": "markdown",
   "metadata": {},
   "source": [
    "# Slide 34"
   ]
  },
  {
   "cell_type": "code",
   "execution_count": 38,
   "metadata": {},
   "outputs": [
    {
     "name": "stdout",
     "output_type": "stream",
     "text": [
      "('shirt', 'men', 20, 'white')\n"
     ]
    }
   ],
   "source": [
    "litem = ['shirt', 'men', 16, 'white']\n",
    "titem = ('shirt', 'men', 16, 'white')\n",
    "\n",
    "# Tuple is immutable, so\n",
    "# cannot write titem[2] = 20\n",
    "titem = titem[:2] + (20,) + titem[3:]\n",
    "print(titem)"
   ]
  },
  {
   "cell_type": "markdown",
   "metadata": {},
   "source": [
    "# Slide 35"
   ]
  },
  {
   "cell_type": "code",
   "execution_count": 39,
   "metadata": {},
   "outputs": [
    {
     "name": "stdout",
     "output_type": "stream",
     "text": [
      "Shirt 15\n"
     ]
    }
   ],
   "source": [
    "(a, b) = (\"Shirt\", 15)\n",
    "print(a, b)"
   ]
  },
  {
   "cell_type": "code",
   "execution_count": 40,
   "metadata": {},
   "outputs": [
    {
     "name": "stdout",
     "output_type": "stream",
     "text": [
      "Shirt 15\n"
     ]
    }
   ],
   "source": [
    "a, b = \"Shirt\", 15\n",
    "print(a, b)"
   ]
  },
  {
   "cell_type": "code",
   "execution_count": 41,
   "metadata": {},
   "outputs": [
    {
     "name": "stdout",
     "output_type": "stream",
     "text": [
      "15 Shirt\n"
     ]
    }
   ],
   "source": [
    "a, b = b, a # Swap!\n",
    "print(a, b)"
   ]
  },
  {
   "cell_type": "code",
   "execution_count": 42,
   "metadata": {},
   "outputs": [
    {
     "name": "stdout",
     "output_type": "stream",
     "text": [
      "[1, 3, 2, 4]\n"
     ]
    }
   ],
   "source": [
    "l = [1, 2, 3, 4]\n",
    "l[1], l[2] = l[2], l[1]\n",
    "print(l)"
   ]
  },
  {
   "cell_type": "markdown",
   "metadata": {},
   "source": [
    "# Slide 36"
   ]
  },
  {
   "cell_type": "code",
   "execution_count": 43,
   "metadata": {},
   "outputs": [
    {
     "name": "stdout",
     "output_type": "stream",
     "text": [
      "True\n",
      "True\n"
     ]
    }
   ],
   "source": [
    "print(('aa', 8) < ('bb', 1))\n",
    "print(('aa', 8) > ('aa', 1))"
   ]
  },
  {
   "cell_type": "code",
   "execution_count": 44,
   "metadata": {},
   "outputs": [
    {
     "name": "stdout",
     "output_type": "stream",
     "text": [
      "[('aa', 5), ('aa', 8), ('bb', 7), ('cc', 1)]\n"
     ]
    }
   ],
   "source": [
    "l = {('cc', 1), ('aa', 8), ('aa', 5), ('bb', 7)} \n",
    "print(sorted(l))"
   ]
  },
  {
   "cell_type": "markdown",
   "metadata": {},
   "source": [
    "# Slide 37"
   ]
  },
  {
   "cell_type": "code",
   "execution_count": 45,
   "metadata": {},
   "outputs": [
    {
     "name": "stdout",
     "output_type": "stream",
     "text": [
      "[10, 20, 30, 40, 50]\n"
     ]
    }
   ],
   "source": [
    "arr = range(10, 51, 10)\n",
    "print(list(arr))"
   ]
  },
  {
   "cell_type": "code",
   "execution_count": 46,
   "metadata": {},
   "outputs": [
    {
     "name": "stdout",
     "output_type": "stream",
     "text": [
      "[(0, 10), (1, 20), (2, 30), (3, 40), (4, 50)]\n"
     ]
    }
   ],
   "source": [
    "print (list(enumerate(arr)))"
   ]
  },
  {
   "cell_type": "code",
   "execution_count": 47,
   "metadata": {},
   "outputs": [
    {
     "name": "stdout",
     "output_type": "stream",
     "text": [
      "0 10\n",
      "1 20\n",
      "2 30\n",
      "3 40\n",
      "4 50\n"
     ]
    }
   ],
   "source": [
    "for i, el in enumerate(arr):\n",
    "    print(i, el)"
   ]
  },
  {
   "cell_type": "markdown",
   "metadata": {},
   "source": [
    "# Slide 38"
   ]
  },
  {
   "cell_type": "code",
   "execution_count": 48,
   "metadata": {},
   "outputs": [
    {
     "name": "stdout",
     "output_type": "stream",
     "text": [
      "[('Shirt', 15), ('Pants', 44), ('Socks', 40)]\n"
     ]
    }
   ],
   "source": [
    "names = [\"Shirt\", \"Pants\", \"Socks\"]\n",
    "sizes = [15, 44, 40]\n",
    "items = list(zip(names, sizes))\n",
    "print(items)"
   ]
  },
  {
   "cell_type": "code",
   "execution_count": 49,
   "metadata": {},
   "outputs": [
    {
     "name": "stdout",
     "output_type": "stream",
     "text": [
      "Shirt: 15\n",
      "Pants: 44\n",
      "Socks: 40\n"
     ]
    }
   ],
   "source": [
    "for name, size in items: \n",
    "    print(name, ': ', size, sep = '')"
   ]
  },
  {
   "cell_type": "markdown",
   "metadata": {},
   "source": [
    "# Slide 40"
   ]
  },
  {
   "cell_type": "code",
   "execution_count": 50,
   "metadata": {},
   "outputs": [
    {
     "name": "stdout",
     "output_type": "stream",
     "text": [
      "(1, 2)\n"
     ]
    }
   ],
   "source": [
    "def f():\n",
    "    return 1,2\n",
    "\n",
    "res = f()\n",
    "print(res)"
   ]
  },
  {
   "cell_type": "code",
   "execution_count": 51,
   "metadata": {},
   "outputs": [
    {
     "name": "stdout",
     "output_type": "stream",
     "text": [
      "3\n"
     ]
    }
   ],
   "source": [
    "res1, res2 = f()\n",
    "print(res1 + res2)"
   ]
  },
  {
   "cell_type": "markdown",
   "metadata": {},
   "source": [
    "# Slide 41"
   ]
  },
  {
   "cell_type": "code",
   "execution_count": 52,
   "metadata": {},
   "outputs": [
    {
     "name": "stdout",
     "output_type": "stream",
     "text": [
      "12\n",
      "35\n"
     ]
    }
   ],
   "source": [
    "def mySum(a, b):\n",
    "    return a + b\n",
    "\n",
    "def doOp(op, a , b):\n",
    "    return op(a, b)\n",
    "\n",
    "print(doOp(mySum, 5, 7))\n",
    "\n",
    "# Lambda is a function without name\n",
    "print(doOp(lambda x, y: x * y, 5, 7))"
   ]
  },
  {
   "cell_type": "markdown",
   "metadata": {},
   "source": [
    "# Slide 42"
   ]
  },
  {
   "cell_type": "code",
   "execution_count": 53,
   "metadata": {},
   "outputs": [
    {
     "name": "stdout",
     "output_type": "stream",
     "text": [
      "[(1, 'banana'), (2, 'apple'), (3, 'cucumber')]\n",
      "[(2, 'apple'), (1, 'banana'), (3, 'cucumber')]\n",
      "[(3, 'cucumber'), (2, 'apple'), (1, 'banana')]\n"
     ]
    }
   ],
   "source": [
    "arr = [(3, 'cucumber'), (2, 'apple'), (1, 'banana')]\n",
    "print(sorted(arr))\n",
    "print(sorted(arr, key = lambda el: el[1]))\n",
    "print(arr)"
   ]
  },
  {
   "cell_type": "code",
   "execution_count": 54,
   "metadata": {},
   "outputs": [
    {
     "name": "stdout",
     "output_type": "stream",
     "text": [
      "[(2, 'apple'), (1, 'banana'), (3, 'cucumber')]\n"
     ]
    }
   ],
   "source": [
    "arr.sort(key = lambda el: el[1])\n",
    "print(arr)"
   ]
  },
  {
   "cell_type": "markdown",
   "metadata": {},
   "source": [
    "# Slide 46"
   ]
  },
  {
   "cell_type": "code",
   "execution_count": 55,
   "metadata": {},
   "outputs": [
    {
     "name": "stdout",
     "output_type": "stream",
     "text": [
      "Enter country: USA\n",
      "Capital: Washington\n"
     ]
    }
   ],
   "source": [
    "myDict = {'USA': 'Washington', 'Russia': 'Moscow', 'England': 'London'}\n",
    "country = input('Enter country: ')\n",
    "print('Capital:', myDict[country])"
   ]
  },
  {
   "cell_type": "code",
   "execution_count": 56,
   "metadata": {},
   "outputs": [
    {
     "name": "stdout",
     "output_type": "stream",
     "text": [
      "Bejing\n"
     ]
    }
   ],
   "source": [
    "myDict['China'] = 'Bejing'\n",
    "print(myDict['China'])"
   ]
  },
  {
   "cell_type": "code",
   "execution_count": 57,
   "metadata": {},
   "outputs": [
    {
     "name": "stdout",
     "output_type": "stream",
     "text": [
      "True\n",
      "False\n"
     ]
    }
   ],
   "source": [
    "print('USA' in myDict)\n",
    "print('Mexico' in myDict)"
   ]
  },
  {
   "cell_type": "code",
   "execution_count": 58,
   "metadata": {},
   "outputs": [
    {
     "name": "stdout",
     "output_type": "stream",
     "text": [
      "['USA', 'Russia', 'England']\n",
      "['Washington', 'Moscow', 'London']\n",
      "[('USA', 'Washington'), ('Russia', 'Moscow'), ('England', 'London')]\n"
     ]
    }
   ],
   "source": [
    "del myDict['China']\n",
    "print([key for key in myDict])\n",
    "print([value for value in myDict.values()])\n",
    "print([(k,v) for k,v in myDict.items()])"
   ]
  },
  {
   "cell_type": "markdown",
   "metadata": {},
   "source": [
    "# Slide 47"
   ]
  },
  {
   "cell_type": "code",
   "execution_count": 59,
   "metadata": {},
   "outputs": [
    {
     "name": "stdout",
     "output_type": "stream",
     "text": [
      "90\n"
     ]
    }
   ],
   "source": [
    "myDict = {('John', 'Infi'): 85, \n",
    "          ('John', 'Databases'): 90, \n",
    "          ('Ron', 'CS'): 70}\n",
    "print(myDict['John', 'Databases'])"
   ]
  },
  {
   "cell_type": "markdown",
   "metadata": {},
   "source": [
    "# Slide 48"
   ]
  },
  {
   "cell_type": "code",
   "execution_count": 60,
   "metadata": {},
   "outputs": [
    {
     "name": "stdout",
     "output_type": "stream",
     "text": [
      "{2, 3, 5, 6, 7}\n"
     ]
    }
   ],
   "source": [
    "mySet = {2, 3, 5, 6, 7}\n",
    "print(mySet)"
   ]
  },
  {
   "cell_type": "code",
   "execution_count": 61,
   "metadata": {},
   "outputs": [
    {
     "name": "stdout",
     "output_type": "stream",
     "text": [
      "False\n",
      "True\n"
     ]
    }
   ],
   "source": [
    "print('USA' in mySet)\n",
    "print(5 in mySet)"
   ]
  },
  {
   "cell_type": "code",
   "execution_count": 62,
   "metadata": {},
   "outputs": [
    {
     "name": "stdout",
     "output_type": "stream",
     "text": [
      "{2, 3, 5, 7, 11}\n"
     ]
    }
   ],
   "source": [
    "mySet.remove(6) # Another way: mySet -= {6}\n",
    "mySet.add(11) # Another way: mySet |= {11}\n",
    "print(mySet)"
   ]
  },
  {
   "cell_type": "code",
   "execution_count": 63,
   "metadata": {},
   "outputs": [
    {
     "name": "stdout",
     "output_type": "stream",
     "text": [
      "[4, 9, 25, 49, 121]\n"
     ]
    }
   ],
   "source": [
    "print([el**2 for el in mySet])"
   ]
  },
  {
   "cell_type": "code",
   "execution_count": 64,
   "metadata": {},
   "outputs": [
    {
     "name": "stdout",
     "output_type": "stream",
     "text": [
      "[2, 3, 5, 7, 11]\n"
     ]
    }
   ],
   "source": [
    "print(list(mySet))"
   ]
  },
  {
   "cell_type": "code",
   "execution_count": 65,
   "metadata": {},
   "outputs": [
    {
     "name": "stdout",
     "output_type": "stream",
     "text": [
      "{1, 2, 4, 5}\n"
     ]
    }
   ],
   "source": [
    "s1 = set([4, 4, 1, 1, 1, 2, 5])\n",
    "print(s1)"
   ]
  },
  {
   "cell_type": "code",
   "execution_count": 66,
   "metadata": {},
   "outputs": [
    {
     "name": "stdout",
     "output_type": "stream",
     "text": [
      "{1, 2, 4, 5, 6}\n",
      "{2, 5}\n",
      "{1, 4}\n"
     ]
    }
   ],
   "source": [
    "s2 = {4, 6, 1}\n",
    "print(s1 | s2)\n",
    "print(s1 - s2)\n",
    "print(s1 & s2)"
   ]
  }
 ],
 "metadata": {
  "kernelspec": {
   "display_name": "Python 3 (ipykernel)",
   "language": "python",
   "name": "python3"
  },
  "language_info": {
   "codemirror_mode": {
    "name": "ipython",
    "version": 3
   },
   "file_extension": ".py",
   "mimetype": "text/x-python",
   "name": "python",
   "nbconvert_exporter": "python",
   "pygments_lexer": "ipython3",
   "version": "3.9.7"
  }
 },
 "nbformat": 4,
 "nbformat_minor": 2
}
