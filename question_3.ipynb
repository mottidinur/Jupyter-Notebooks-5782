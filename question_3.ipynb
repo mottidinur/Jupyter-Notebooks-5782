{
 "cells": [
  {
   "cell_type": "code",
   "execution_count": 1,
   "id": "87f8c512",
   "metadata": {},
   "outputs": [],
   "source": [
    "import numpy as np\n",
    "def all_same(arr):\n",
    "    return sum([1 if el==arr[0] else 0 for el in arr])==len(arr)\n",
    "\n",
    "def sums_equal(m):\n",
    "    return all_same(m.sum(0)) and all_same(m.sum(1))"
   ]
  },
  {
   "cell_type": "code",
   "execution_count": 2,
   "id": "ec2382fa",
   "metadata": {},
   "outputs": [],
   "source": [
    "def sums_equal2(m):\n",
    "    for dim in [0,1]:\n",
    "        mysum = m.sum(dim)\n",
    "        if np.min(mysum) != np.max(mysum):\n",
    "            return False\n",
    "    return True"
   ]
  },
  {
   "cell_type": "code",
   "execution_count": 3,
   "id": "f927c004",
   "metadata": {},
   "outputs": [
    {
     "name": "stdout",
     "output_type": "stream",
     "text": [
      "len(m) 4\n",
      "sums_equal(m): True\n",
      "m.sum(0) [20 20 20]\n",
      "m.sum(1) [15 15 15 15]\n",
      "sums_equal2(m): True\n"
     ]
    }
   ],
   "source": [
    "m=np.array([[4 ,3 ,8], [9, 5, 1] ,[2, 7 ,6],[5, 5 ,5]])\n",
    "print(\"len(m)\",len(m))\n",
    "print(\"sums_equal(m):\",sums_equal(m))\n",
    "print(\"m.sum(0)\",m.sum(0))\n",
    "print(\"m.sum(1)\",m.sum(1))\n",
    "print(\"sums_equal2(m):\",sums_equal2(m))"
   ]
  },
  {
   "cell_type": "code",
   "execution_count": 5,
   "id": "94fb68c8",
   "metadata": {},
   "outputs": [
    {
     "name": "stdout",
     "output_type": "stream",
     "text": [
      "len(m) 4\n",
      "sums_equal(m): True\n",
      "m.sum(0) [16 16 16]\n",
      "m.sum(1) [12 12 12 12]\n",
      "sums_equal2(m): True\n"
     ]
    }
   ],
   "source": [
    "m=np.array([[1 ,3 ,8], [9, 2, 1] ,[2, 7 ,3],[4, 4 ,4]])\n",
    "print(\"len(m)\",len(m))\n",
    "print(\"sums_equal(m):\",sums_equal(m))\n",
    "print(\"m.sum(0)\",m.sum(0))\n",
    "print(\"m.sum(1)\",m.sum(1))\n",
    "print(\"sums_equal2(m):\",sums_equal2(m))"
   ]
  },
  {
   "cell_type": "code",
   "execution_count": null,
   "id": "cde4b462",
   "metadata": {},
   "outputs": [],
   "source": []
  }
 ],
 "metadata": {
  "kernelspec": {
   "display_name": "Python 3 (ipykernel)",
   "language": "python",
   "name": "python3"
  },
  "language_info": {
   "codemirror_mode": {
    "name": "ipython",
    "version": 3
   },
   "file_extension": ".py",
   "mimetype": "text/x-python",
   "name": "python",
   "nbconvert_exporter": "python",
   "pygments_lexer": "ipython3",
   "version": "3.9.7"
  }
 },
 "nbformat": 4,
 "nbformat_minor": 5
}
