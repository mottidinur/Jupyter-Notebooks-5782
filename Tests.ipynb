{
 "cells": [
  {
   "cell_type": "code",
   "execution_count": 6,
   "id": "989cee3d",
   "metadata": {},
   "outputs": [],
   "source": [
    "import numpy as np\n",
    "def all_same(arr):\n",
    "    return sum([1 if el==arr[0] else 0 for el in arr])==len(arr)\n",
    "\n",
    "def sums_equal(m):\n",
    "    return all_same(m.sum(0)) and all_same(m.sum(1))"
   ]
  },
  {
   "cell_type": "code",
   "execution_count": 15,
   "id": "695a07a7",
   "metadata": {},
   "outputs": [
    {
     "name": "stdout",
     "output_type": "stream",
     "text": [
      "len(m) 4\n",
      "True\n",
      "m.sum(0) [20 20 20]\n",
      "m.sum(1) [15 15 15 15]\n"
     ]
    }
   ],
   "source": [
    "m=np.array([[4 ,3 ,8], [9, 5, 1] ,[2, 7 ,6],[5, 5 ,5]])\n",
    "print(\"len(m)\",len(m))\n",
    "print(sums_equal(m))\n",
    "# n=np.array([[4 ,3 ,8], [9, 5, 1] ,[2, 7 ,6],[2, 2 ,2]])\n",
    "# print(sums_equal(n))\n",
    "print(\"m.sum(0)\",m.sum(0))\n",
    "print(\"m.sum(1)\",m.sum(1))"
   ]
  },
  {
   "cell_type": "code",
   "execution_count": 2,
   "id": "5df924fe",
   "metadata": {},
   "outputs": [
    {
     "name": "stdout",
     "output_type": "stream",
     "text": [
      "[2, 3, 5, 6, 7, 2, 3, 5, 6, 7]\n",
      "[2, 3, 5, 6, 7, 2, 3, 5, 6, 7]\n"
     ]
    }
   ],
   "source": [
    "myList = [2, 3, 5, 6, 7]\n",
    "print(myList*2)\n",
    "print(myList[:]*2)"
   ]
  },
  {
   "cell_type": "code",
   "execution_count": 1,
   "id": "dad9a533",
   "metadata": {},
   "outputs": [
    {
     "name": "stdout",
     "output_type": "stream",
     "text": [
      "('shirt', 'men', 20, 'white')\n"
     ]
    }
   ],
   "source": [
    "litem = ['shirt', 'men', 16, 'white']\n",
    "titem = ('shirt', 'men', 16, 'white')\n",
    "\n",
    "# Tuple is immutable, so\n",
    "# cannot write titem[2] = 20\n",
    "titem = titem[:2] + (20,) + titem[3:]\n",
    "print(titem)"
   ]
  },
  {
   "cell_type": "code",
   "execution_count": 2,
   "id": "9a6cb115",
   "metadata": {},
   "outputs": [
    {
     "name": "stdout",
     "output_type": "stream",
     "text": [
      "{2, 3, 5, 6, 7}\n"
     ]
    }
   ],
   "source": [
    "mySet = {2, 3, 5, 6, 7}\n",
    "print(mySet)"
   ]
  },
  {
   "cell_type": "code",
   "execution_count": 3,
   "id": "156a9a63",
   "metadata": {},
   "outputs": [
    {
     "name": "stdout",
     "output_type": "stream",
     "text": [
      "{2, 3, 5, 7, 11, 12}\n"
     ]
    }
   ],
   "source": [
    "mySet |= {6}\n",
    "mySet.remove(6) # Another way: mySet -= {6}\n",
    "mySet.add(11) # Another way: mySet |= {11}\n",
    "mySet |= {12}\n",
    "print(mySet)"
   ]
  },
  {
   "cell_type": "code",
   "execution_count": 4,
   "id": "fd0da5f5",
   "metadata": {},
   "outputs": [
    {
     "name": "stdout",
     "output_type": "stream",
     "text": [
      "{'A': '1', 'B': '2', 'C': '3'}\n",
      "{'A': '4', 'B': '2', 'C': '3'}\n"
     ]
    }
   ],
   "source": [
    "mydict = {'A':'1','B':'2','C':'3'}\n",
    "print(mydict)\n",
    "mydict['A'] ='4'\n",
    "print(mydict)"
   ]
  },
  {
   "cell_type": "code",
   "execution_count": 5,
   "id": "f1c57044",
   "metadata": {},
   "outputs": [
    {
     "name": "stdout",
     "output_type": "stream",
     "text": [
      "5\n"
     ]
    }
   ],
   "source": [
    "a=10\n",
    "if a>6:print(5)"
   ]
  },
  {
   "cell_type": "code",
   "execution_count": 6,
   "id": "878b1264",
   "metadata": {},
   "outputs": [
    {
     "name": "stdout",
     "output_type": "stream",
     "text": [
      "[[[0.40155875 0.12903025 0.96762611]\n",
      "  [0.89614165 0.17052749 0.83878582]]]\n",
      "(1, 2, 3)\n"
     ]
    }
   ],
   "source": [
    "import numpy as np\n",
    "arr = np.random.random((1,2,3))\n",
    "print(arr)\n",
    "print(arr.shape)"
   ]
  },
  {
   "cell_type": "code",
   "execution_count": 7,
   "id": "e7c53173",
   "metadata": {},
   "outputs": [
    {
     "name": "stdout",
     "output_type": "stream",
     "text": [
      "arr size: 6\n",
      "arr shape: (1, 2, 3)\n"
     ]
    }
   ],
   "source": [
    "print(\"arr size:\" ,arr.size)\n",
    "print(\"arr shape:\" ,arr.shape)"
   ]
  },
  {
   "cell_type": "code",
   "execution_count": 8,
   "id": "7313c64b",
   "metadata": {},
   "outputs": [
    {
     "data": {
      "text/plain": [
       "array([[0.96762611, 0.83878582]])"
      ]
     },
     "execution_count": 8,
     "metadata": {},
     "output_type": "execute_result"
    }
   ],
   "source": [
    "arr[:,:,-1]"
   ]
  },
  {
   "cell_type": "code",
   "execution_count": 9,
   "id": "1df76c3b",
   "metadata": {},
   "outputs": [
    {
     "data": {
      "text/plain": [
       "array([0.89614165, 0.17052749, 0.83878582])"
      ]
     },
     "execution_count": 9,
     "metadata": {},
     "output_type": "execute_result"
    }
   ],
   "source": [
    "arr[0,1,:]"
   ]
  },
  {
   "cell_type": "code",
   "execution_count": 10,
   "id": "fd6cdfc1",
   "metadata": {},
   "outputs": [
    {
     "data": {
      "text/plain": [
       "array([0.40155875, 0.12903025, 0.96762611, 0.89614165, 0.17052749,\n",
       "       0.83878582])"
      ]
     },
     "execution_count": 10,
     "metadata": {},
     "output_type": "execute_result"
    }
   ],
   "source": [
    "arr.reshape(6)"
   ]
  },
  {
   "cell_type": "code",
   "execution_count": 11,
   "id": "09e3f510",
   "metadata": {},
   "outputs": [
    {
     "name": "stdout",
     "output_type": "stream",
     "text": [
      "['no' 'yes' 'no' 'yes']\n"
     ]
    }
   ],
   "source": [
    "import numpy as np\n",
    "print(np.where(np.array([0,1,0,1])==1,\"yes\",\"no\"))"
   ]
  },
  {
   "cell_type": "code",
   "execution_count": 59,
   "id": "61e2938b",
   "metadata": {},
   "outputs": [
    {
     "name": "stdout",
     "output_type": "stream",
     "text": [
      "[1 2 4 8]\n",
      "[15] \n",
      "\n",
      "[[1.2 2. ]\n",
      " [3.7 4. ]] \n",
      "\n",
      "[4.9 6. ]\n",
      "[3.2 7.7]\n"
     ]
    }
   ],
   "source": [
    "arr = np.array([[2** i for i in range(4)]])\n",
    "print(arr.sum(0))\n",
    "print(arr.sum(1),'\\n')\n",
    "arr = np.array([[1.2, 2.0], [3.7, 4.0]])\n",
    "print(arr,'\\n')\n",
    "print(arr.sum(0))\n",
    "print(arr.sum(1))"
   ]
  },
  {
   "cell_type": "code",
   "execution_count": 13,
   "id": "3afbfef7",
   "metadata": {},
   "outputs": [
    {
     "name": "stdout",
     "output_type": "stream",
     "text": [
      "Size: 12    Dimensions: (2, 3, 2)\n",
      "[[[ 8  9]\n",
      "  [10 11]]]\n",
      "[[0 1]\n",
      " [2 3]\n",
      " [4 5]]\n",
      "[[ 6  7]\n",
      " [ 8  9]\n",
      " [10 11]]\n"
     ]
    }
   ],
   "source": [
    "import numpy as np\n",
    "arr = np.array(\n",
    "    [[[ 0,  1], \n",
    "      [ 2,  3],\n",
    "      [ 4,  5]],\n",
    "     [[ 6,  7],\n",
    "      [ 8,  9],\n",
    "      [10, 11]]])\n",
    "print(\"Size: %d    Dimensions: %s\" % (arr.size, arr.shape))\n",
    "print(arr[1:2, 1:3])\n",
    "print(arr[0,:,:])\n",
    "print(arr[1,:,:])"
   ]
  },
  {
   "cell_type": "code",
   "execution_count": 14,
   "id": "7f80cac8",
   "metadata": {},
   "outputs": [
    {
     "name": "stdout",
     "output_type": "stream",
     "text": [
      "[1, 10, 3]\n"
     ]
    }
   ],
   "source": [
    "# Recall:\n",
    "l1 = [1, 2, 3]\n",
    "l2 = l1\n",
    "l2[1] = 10\n",
    "print (l1)"
   ]
  },
  {
   "cell_type": "code",
   "execution_count": 15,
   "id": "77fca2de",
   "metadata": {},
   "outputs": [
    {
     "name": "stdout",
     "output_type": "stream",
     "text": [
      "[1, 2, 3]\n"
     ]
    }
   ],
   "source": [
    "# Recall:\n",
    "l1 = [1, 2, 3]\n",
    "l2 = l1[:]\n",
    "l2[1] = 10\n",
    "print (l1)"
   ]
  },
  {
   "cell_type": "code",
   "execution_count": 16,
   "id": "0ab0ef10",
   "metadata": {},
   "outputs": [
    {
     "name": "stdout",
     "output_type": "stream",
     "text": [
      "[ 1 10  3]\n"
     ]
    }
   ],
   "source": [
    "# But slicing creates a view\n",
    "# (not copy!) whenever possible\n",
    "arr1 = np.array([1,2,3])\n",
    "arr2 = arr1[:]\n",
    "arr2[1] = 10\n",
    "print(arr1)"
   ]
  },
  {
   "cell_type": "code",
   "execution_count": 17,
   "id": "b5e7a04c",
   "metadata": {},
   "outputs": [
    {
     "name": "stdout",
     "output_type": "stream",
     "text": [
      "[1 2 3]\n"
     ]
    }
   ],
   "source": [
    "# The way to copy an array\n",
    "arr1 = np.array([1,2,3])\n",
    "arr2 = np.matrix.copy(arr1)\n",
    "arr2[1] = 10\n",
    "print(arr1)"
   ]
  },
  {
   "cell_type": "code",
   "execution_count": 18,
   "id": "d5f47b6c",
   "metadata": {},
   "outputs": [
    {
     "name": "stdout",
     "output_type": "stream",
     "text": [
      "[[3.]]\n"
     ]
    }
   ],
   "source": [
    "arr = np.ones((1,3))\n",
    "print(arr@ np.transpose(arr))"
   ]
  },
  {
   "cell_type": "code",
   "execution_count": 19,
   "id": "6f001ff7",
   "metadata": {},
   "outputs": [
    {
     "name": "stdout",
     "output_type": "stream",
     "text": [
      "[1.0, 2.718281828459045, 7.3890560989306495, 20.085536923187664, 54.59815003314423, 148.41315910257657, 403.428793492735, 1096.6331584284583, 2980.957987041727, 8103.08392757538, 22026.465794806703, 59874.14171519778, 162754.79141900383, 442413.3920089202, 1202604.2841647759, 3269017.372472108, 8886110.520507865, 24154952.753575277, 65659969.13733045, 178482300.96318707, 485165195.40978974]\n",
      "2.718281828459045\n",
      "[ 0.  1.  2.  3.  4.  5.  6.  7.  8.  9. 10.]\n",
      "100.0\n"
     ]
    },
    {
     "data": {
      "image/png": "[encoded data removed]",
      "text/plain": [
       "<Figure size 432x288 with 1 Axes>"
      ]
     },
     "metadata": {
      "needs_background": "light"
     },
     "output_type": "display_data"
    }
   ],
   "source": [
    "import matplotlib.pyplot as plt\n",
    "import math\n",
    "xs = [math.e** i for i in range(21)]\n",
    "print(xs)\n",
    "print(math.e)\n",
    "print(np.log(xs[:11]))\n",
    "print(np.log(math.e**100))\n",
    "plt.plot(xs[:11], np.log(xs[:11]))\n",
    "plt.show()"
   ]
  },
  {
   "cell_type": "code",
   "execution_count": 20,
   "id": "43b0788c",
   "metadata": {},
   "outputs": [
    {
     "name": "stdout",
     "output_type": "stream",
     "text": [
      "[10]\n",
      "[30, 40]\n",
      "False\n",
      "True\n"
     ]
    }
   ],
   "source": [
    "a=[10,20,30,40,50]\n",
    "print(a[:1])\n",
    "b=a\n",
    "c=a[:]\n",
    "b[1]=b[0]\n",
    "print(a[2:4])\n",
    "print(c==a)\n",
    "print(20 in c)"
   ]
  },
  {
   "cell_type": "code",
   "execution_count": 21,
   "id": "8f4db917",
   "metadata": {},
   "outputs": [
    {
     "name": "stdout",
     "output_type": "stream",
     "text": [
      "HI12\n",
      "3\n",
      "2\n",
      "-112\n"
     ]
    }
   ],
   "source": [
    "def f(a,b):\n",
    "    return a.index(b) if b in a else -1\n",
    "\n",
    "def g(x):\n",
    "    for i in range(1,3):\n",
    "        x+=str(i)\n",
    "    return x\n",
    "\n",
    "print(g(\"HI\"))\n",
    "\n",
    "print(f(\"good Morning\", \"d\"))\n",
    "\n",
    "print(f(g(\"Hi\"),\"1\"))\n",
    "\n",
    "print(g(str(f(\"Hi\",\"1\"))))"
   ]
  },
  {
   "cell_type": "code",
   "execution_count": 22,
   "id": "407d5863",
   "metadata": {},
   "outputs": [
    {
     "name": "stdout",
     "output_type": "stream",
     "text": [
      "(3, 1)\n",
      "[[1]\n",
      " [2]\n",
      " [3]]\n",
      "[[1 2 3]]\n",
      "[[1 2 3]]\n"
     ]
    }
   ],
   "source": [
    "import numpy as np\n",
    "arr = np.array([[1],[2],[3]])\n",
    "print(arr.shape)\n",
    "print(arr)\n",
    "print(arr.reshape(1,3))\n",
    "print(arr.T)"
   ]
  },
  {
   "cell_type": "code",
   "execution_count": 23,
   "id": "183867d6",
   "metadata": {},
   "outputs": [
    {
     "name": "stdout",
     "output_type": "stream",
     "text": [
      "[[2. 2. 2.]\n",
      " [2. 2. 2.]\n",
      " [2. 2. 2.]]\n"
     ]
    }
   ],
   "source": [
    "print(np.ones((1,3))+np.ones((3,1)))"
   ]
  },
  {
   "cell_type": "code",
   "execution_count": 24,
   "id": "79585daf",
   "metadata": {},
   "outputs": [
    {
     "name": "stdout",
     "output_type": "stream",
     "text": [
      "(array([0, 1, 2], dtype=int64),)\n"
     ]
    }
   ],
   "source": [
    "print(np.where(np.ones((3))==1))"
   ]
  },
  {
   "cell_type": "code",
   "execution_count": 25,
   "id": "baaae938",
   "metadata": {},
   "outputs": [
    {
     "name": "stdout",
     "output_type": "stream",
     "text": [
      "{1, 2, 4, 5}\n"
     ]
    }
   ],
   "source": [
    "s1 = set([4, 4, 1, 1, 1, 2, 5])\n",
    "print(s1)"
   ]
  },
  {
   "cell_type": "code",
   "execution_count": 26,
   "id": "147a44d2",
   "metadata": {},
   "outputs": [
    {
     "name": "stdout",
     "output_type": "stream",
     "text": [
      "{1, 2, 4, 5, 6}\n",
      "{2, 5}\n",
      "{1, 4}\n"
     ]
    }
   ],
   "source": [
    "s2 = {4, 6, 1}\n",
    "print(s1 | s2)\n",
    "print(s1 - s2)\n",
    "print(s1 & s2)"
   ]
  },
  {
   "cell_type": "code",
   "execution_count": 48,
   "id": "4dc1749c",
   "metadata": {},
   "outputs": [
    {
     "name": "stdout",
     "output_type": "stream",
     "text": [
      "[[0 1 0 1]]\n",
      "3\n",
      "2\n",
      "1\n",
      "0\n",
      "[[0 1 2 3]]\n",
      "1\n",
      "1\n",
      "[]\n"
     ]
    }
   ],
   "source": [
    "print(np.array([0,1,0,1])[0==0])\n",
    "print(np.array([0,1,2,3])[3])\n",
    "print(np.array([0,1,2,3])[2])\n",
    "print(np.array([0,1,2,3])[1])\n",
    "print(np.array([0,1,2,3])[0])\n",
    "print(np.array([0,1,2,3])[True])\n",
    "print([0,1,0,1][0==0])\n",
    "print([0,1,0,1][True])\n",
    "if 0 :\n",
    "    print(\"0 not false\")\n",
    "print(np.array([0,1,2,3])[True,False,True,True])"
   ]
  },
  {
   "cell_type": "raw",
   "id": "83f85f0d",
   "metadata": {},
   "source": [
    "arr = np.array([[1, 2], [3, 4]])\n",
    "inv = np.linalg.inv(arr)\n",
    "print(arr)\n",
    "print(inv)"
   ]
  },
  {
   "cell_type": "code",
   "execution_count": 36,
   "id": "2a895f9d",
   "metadata": {},
   "outputs": [
    {
     "data": {
      "text/plain": [
       "array([[-2. ,  2. ],\n",
       "       [ 4.5, -2. ]])"
      ]
     },
     "execution_count": 36,
     "metadata": {},
     "output_type": "execute_result"
    }
   ],
   "source": [
    "arr * inv \n",
    "# This is not matrix multiplication!"
   ]
  },
  {
   "cell_type": "code",
   "execution_count": 37,
   "id": "53a97781",
   "metadata": {},
   "outputs": [
    {
     "data": {
      "text/plain": [
       "array([[1., 0.],\n",
       "       [0., 1.]])"
      ]
     },
     "execution_count": 37,
     "metadata": {},
     "output_type": "execute_result"
    }
   ],
   "source": [
    "np.round(arr @ inv, 3) "
   ]
  },
  {
   "cell_type": "code",
   "execution_count": null,
   "id": "86ba9e61",
   "metadata": {},
   "outputs": [],
   "source": [
    "arr=np.array([[1,2],[2,4],[3,2]])\n",
    "plt.scatter(arr[0,:],arr[1,:])\n",
    "plt.show()"
   ]
  },
  {
   "cell_type": "code",
   "execution_count": null,
   "id": "70221ecb",
   "metadata": {},
   "outputs": [],
   "source": [
    "# Generating data\n",
    "from sklearn.datasets import make_blobs\n",
    "from sklearn.datasets import make_circles\n",
    "\n",
    "fig,ax = plt.subplots(1, 2, figsize=(10,3))\n",
    "X, y = make_circles(100, factor=0.1, noise=0.1)\n",
    "ax[0].scatter(X[:, 0], X[:, 1], c=y, s=50, cmap='winter')\n",
    "X, y = make_blobs(n_samples=200, centers=3,\n",
    "                  random_state=0, cluster_std=0.60)\n",
    "#y[150:]=2\n",
    "ax[1].scatter(X[:, 0], X[:, 1], c=y, s=50, cmap='autumn')\n",
    "plt.show()\n",
    "print(y.shape)\n",
    "print(X.shape)\n",
    "print(y)"
   ]
  },
  {
   "cell_type": "code",
   "execution_count": null,
   "id": "54c78555",
   "metadata": {},
   "outputs": [],
   "source": [
    "# Scaling\n",
    "from sklearn.preprocessing import StandardScaler\n",
    "X = np.array([[1, 2], \n",
    "              [3, 4], \n",
    "              [5, 1000]], dtype=np.float)\n",
    "scaler = StandardScaler() \n",
    "scaler.fit(X)\n",
    "print(scaler.transform(X))\n",
    "testSample = np.array([[3, 1000]], dtype=np.float)\n",
    "print()\n",
    "print(scaler.transform(testSample))"
   ]
  },
  {
   "cell_type": "code",
   "execution_count": null,
   "id": "363df466",
   "metadata": {},
   "outputs": [],
   "source": [
    "from sklearn.svm import SVC\n",
    "fig,ax = plt.subplots(1, 2, figsize=(10,3))\n",
    "X, y = make_blobs(n_samples=200, centers=2,\n",
    "                  random_state=0, cluster_std=0.75)\n",
    "ax[0].scatter(X[:, 0], X[:, 1], c=y, s=50, cmap='winter')\n",
    "model = SVC(kernel='linear', C=100)\n",
    "model.fit(X, y)\n",
    "X_test = np.array([[0, 2.6], [0, 5], [1.5, 2], [1.5, 3]])\n",
    "h = model.predict(X_test)\n",
    "print(h)"
   ]
  },
  {
   "cell_type": "code",
   "execution_count": null,
   "id": "e136e323",
   "metadata": {},
   "outputs": [],
   "source": [
    "print((X[(y==1)]))"
   ]
  },
  {
   "cell_type": "code",
   "execution_count": null,
   "id": "c8694e35",
   "metadata": {},
   "outputs": [],
   "source": [
    "# Plotting SVM decision and margin, works with kernels as well.\n",
    "# Based on the function that appears in\n",
    "# https://jakevdp.github.io/PythonDataScienceHandbook/05.07-support-vector-machines.html\n",
    "def plot_svc_decision_function(X, y, model, ax=None, plot_support=True):\n",
    "    \"\"\"Plot the decision function for a 2D SVC\"\"\"\n",
    "    if ax is None:\n",
    "        ax = plt.gca()\n",
    "    ax.scatter(X[:, 0], X[:, 1], c=y, s=50, cmap='winter')\n",
    "    xlim = ax.get_xlim()\n",
    "    ylim = ax.get_ylim()\n",
    "    \n",
    "    # create grid to evaluate model\n",
    "    xs = np.linspace(xlim[0], xlim[1], 30)\n",
    "    ys = np.linspace(ylim[0], ylim[1], 30)\n",
    "    Y, X = np.meshgrid(ys, xs)\n",
    "    xy = np.vstack([X.ravel(), Y.ravel()]).T\n",
    "    P = model.decision_function(xy).reshape(X.shape)\n",
    "    \n",
    "    # plot decision boundary and margins\n",
    "    ax.contour(X, Y, P, colors='k',\n",
    "               # levels=[-1.1, -1, 0, 1, 1.1],\n",
    "               levels=[-1, 0, 1], \n",
    "               alpha=0.5,\n",
    "               #linestyles=['dotted', 'dashed', 'solid', 'dashed', 'dotted']\n",
    "               linestyles=['dashed', 'solid', 'dashed']\n",
    "              )\n",
    "    \n",
    "    # plot support vectors\n",
    "    if plot_support:\n",
    "        ax.scatter(model.support_vectors_[:, 0],\n",
    "                   model.support_vectors_[:, 1],\n",
    "                   s=150, c=[y[i] for i in model.support_], cmap='winter');\n",
    "    ax.set_xlim(xlim)\n",
    "    ax.set_ylim(ylim)\n",
    "    plt.show()"
   ]
  },
  {
   "cell_type": "code",
   "execution_count": null,
   "id": "0a9ac549",
   "metadata": {},
   "outputs": [],
   "source": [
    "# Exploring the parameters of SVM\n",
    "def exploreC(nPoints, cluster_std, C):\n",
    "    X, y = make_blobs(n_samples=nPoints, centers=2,\n",
    "                      random_state=0, cluster_std = cluster_std)\n",
    "    model = SVC(kernel='linear', C=C)\n",
    "    model.fit(X, y)\n",
    "    plot_svc_decision_function(X, y, model);\n",
    "\n",
    "from ipywidgets import interact, fixed\n",
    "interact(exploreC, \n",
    "         nPoints=(10, 1000),\n",
    "         cluster_std = fixed(0.7), \n",
    "         C=[math.pow(10, p) for p in range(-3, 4)])"
   ]
  },
  {
   "cell_type": "code",
   "execution_count": null,
   "id": "b897d632",
   "metadata": {},
   "outputs": [],
   "source": [
    "exploreC(nPoints = 50, cluster_std = 0.9, C = 1)"
   ]
  },
  {
   "cell_type": "code",
   "execution_count": null,
   "id": "6be8eae4",
   "metadata": {},
   "outputs": [],
   "source": [
    "# Splitting into training and test set\n",
    "from sklearn.model_selection import train_test_split\n",
    "# Lets give 75% of data for the training set and 25% for the test set\n",
    "X_train, X_test, y_train, y_test = \\\n",
    "    train_test_split(X, y, \n",
    "                     train_size=0.25, random_state=0)\n",
    "print('All data:', X.shape, \n",
    "      '    Training data:', X_train.shape, '    Test data:', X_test.shape)"
   ]
  },
  {
   "cell_type": "code",
   "execution_count": null,
   "id": "e0430ded",
   "metadata": {},
   "outputs": [],
   "source": []
  }
 ],
 "metadata": {
  "kernelspec": {
   "display_name": "Python 3 (ipykernel)",
   "language": "python",
   "name": "python3"
  },
  "language_info": {
   "codemirror_mode": {
    "name": "ipython",
    "version": 3
   },
   "file_extension": ".py",
   "mimetype": "text/x-python",
   "name": "python",
   "nbconvert_exporter": "python",
   "pygments_lexer": "ipython3",
   "version": "3.9.7"
  }
 },
 "nbformat": 4,
 "nbformat_minor": 5
}
