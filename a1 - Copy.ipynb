{
 "cells": [
  {
   "cell_type": "code",
   "execution_count": 4,
   "metadata": {},
   "outputs": [],
   "source": [
    "# Question 1\n",
    "def f(a, b):\n",
    "    return 'True'  if a % b == 0 else 'False'"
   ]
  },
  {
   "cell_type": "code",
   "execution_count": 5,
   "metadata": {},
   "outputs": [
    {
     "name": "stdout",
     "output_type": "stream",
     "text": [
      "True\n",
      "False\n"
     ]
    }
   ],
   "source": [
    "# Question 1 Test\n",
    "if __name__ == \"__main__\": # so this code is not run when imported into other modules\n",
    "    print(f(228, 57))\n",
    "    print(f(228, 36))"
   ]
  },
  {
   "cell_type": "code",
   "execution_count": 6,
   "metadata": {},
   "outputs": [],
   "source": [
    "# Question 2\n",
    "def f(l, n):\n",
    "    return sum(l[-n:])"
   ]
  },
  {
   "cell_type": "code",
   "execution_count": 9,
   "metadata": {},
   "outputs": [
    {
     "name": "stdout",
     "output_type": "stream",
     "text": [
      "10\n"
     ]
    }
   ],
   "source": [
    "# Question 2 Test\n",
    "if __name__ == \"__main__\":\n",
    "    print(f(range(10, 0, -1), 4))"
   ]
  },
  {
   "cell_type": "code",
   "execution_count": 12,
   "metadata": {},
   "outputs": [],
   "source": [
    "# Question 3\n",
    "def f():\n",
    "    return input('Enter a string: ').count(',')"
   ]
  },
  {
   "cell_type": "code",
   "execution_count": 13,
   "metadata": {},
   "outputs": [
    {
     "name": "stdout",
     "output_type": "stream",
     "text": [
      "Enter a string: there are, you know, great,,, things\n",
      "5\n"
     ]
    }
   ],
   "source": [
    "# Question 3 Test\n",
    "if __name__ == \"__main__\":\n",
    "    print(f())"
   ]
  },
  {
   "cell_type": "code",
   "execution_count": 16,
   "metadata": {},
   "outputs": [],
   "source": [
    "# Question 4\n",
    "def f(n):\n",
    "    return 1 if n==1 else n*f(n-1)"
   ]
  },
  {
   "cell_type": "code",
   "execution_count": 20,
   "metadata": {},
   "outputs": [
    {
     "name": "stdout",
     "output_type": "stream",
     "text": [
      "120\n"
     ]
    }
   ],
   "source": [
    "# Question 4 Test\n",
    "if __name__ == \"__main__\":\n",
    "    print(f(5))"
   ]
  },
  {
   "cell_type": "code",
   "execution_count": 21,
   "metadata": {},
   "outputs": [],
   "source": [
    "# Question 5\n",
    "def f(l):\n",
    "    return 'True'  if sum([el * (el % 2) for el in l])==0 else 'False'"
   ]
  },
  {
   "cell_type": "code",
   "execution_count": 22,
   "metadata": {},
   "outputs": [
    {
     "name": "stdout",
     "output_type": "stream",
     "text": [
      "False\n",
      "False\n",
      "True\n"
     ]
    }
   ],
   "source": [
    "# Question 5 Test\n",
    "if __name__ == \"__main__\":\n",
    "    print(f([2, 4, 7, 8]))\n",
    "    print(f([2, 4, 7, 8, 9]))\n",
    "    print(f([2, 4, 8, 10]))"
   ]
  },
  {
   "cell_type": "code",
   "execution_count": null,
   "metadata": {},
   "outputs": [],
   "source": [
    "# Question 6\n",
    "def f(l1, l2):\n",
    "    return None"
   ]
  },
  {
   "cell_type": "code",
   "execution_count": null,
   "metadata": {},
   "outputs": [],
   "source": [
    "# Question 6 Test\n",
    "if __name__ == \"__main__\":\n",
    "    print(f([2, 3, 1], [2, 4, 3]))\n",
    "    print(f([2, 3, 1], [2, 4, 3, 5]))"
   ]
  },
  {
   "cell_type": "code",
   "execution_count": null,
   "metadata": {},
   "outputs": [],
   "source": [
    "# Question 7\n",
    "def f(words):\n",
    "    return None"
   ]
  },
  {
   "cell_type": "code",
   "execution_count": null,
   "metadata": {},
   "outputs": [],
   "source": [
    "# Question 7 Test\n",
    "if __name__ == \"__main__\":\n",
    "    print(f(['wow', 'nowhere', 'nice', 'Python', 'great']))"
   ]
  },
  {
   "cell_type": "code",
   "execution_count": null,
   "metadata": {},
   "outputs": [],
   "source": [
    "# Question 8\n",
    "# Return a sorted list of the elements of the given list l without duplicates.\n",
    "def sortedUnique(l):\n",
    "    return None"
   ]
  },
  {
   "cell_type": "code",
   "execution_count": null,
   "metadata": {},
   "outputs": [],
   "source": [
    "# Question 8 Test\n",
    "if __name__ == \"__main__\":\n",
    "    print(sortedUnique([10, 10, 10, 0, 15, 15, 1, 1, 1, 1]))"
   ]
  },
  {
   "cell_type": "code",
   "execution_count": null,
   "metadata": {},
   "outputs": [],
   "source": [
    "# Question 9\n",
    "def f(n):\n",
    "    return None"
   ]
  },
  {
   "cell_type": "code",
   "execution_count": null,
   "metadata": {},
   "outputs": [],
   "source": [
    "# Question 9 Test\n",
    "if __name__ == \"__main__\":\n",
    "    print(f(15679))"
   ]
  },
  {
   "cell_type": "code",
   "execution_count": null,
   "metadata": {},
   "outputs": [],
   "source": [
    "# Question 10\n",
    "def f(words):\n",
    "    return None"
   ]
  },
  {
   "cell_type": "code",
   "execution_count": null,
   "metadata": {},
   "outputs": [],
   "source": [
    "# Question 10 Test\n",
    "if __name__ == \"__main__\":\n",
    "    print(f(['wow', 'nowhere', 'nice', 'Python', 'great']))"
   ]
  },
  {
   "cell_type": "code",
   "execution_count": null,
   "metadata": {},
   "outputs": [],
   "source": [
    "# Question 11\n",
    "import string\n",
    "\n",
    "def fileFrequentWords(fileName):\n",
    "    return None"
   ]
  },
  {
   "cell_type": "code",
   "execution_count": null,
   "metadata": {},
   "outputs": [],
   "source": [
    "# Question 11 Test\n",
    "if __name__ == \"__main__\":\n",
    "    for w, c in fileFrequentWords(input('Enter the file name: ')):\n",
    "        print(w, c)"
   ]
  }
 ],
 "metadata": {
  "kernelspec": {
   "display_name": "Python 3 (ipykernel)",
   "language": "python",
   "name": "python3"
  },
  "language_info": {
   "codemirror_mode": {
    "name": "ipython",
    "version": 3
   },
   "file_extension": ".py",
   "mimetype": "text/x-python",
   "name": "python",
   "nbconvert_exporter": "python",
   "pygments_lexer": "ipython3",
   "version": "3.9.7"
  }
 },
 "nbformat": 4,
 "nbformat_minor": 2
}
